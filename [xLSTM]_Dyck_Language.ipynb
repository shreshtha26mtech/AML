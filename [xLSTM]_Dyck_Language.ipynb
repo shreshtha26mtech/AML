{
  "nbformat": 4,
  "nbformat_minor": 0,
  "metadata": {
    "colab": {
      "provenance": [],
      "gpuType": "T4"
    },
    "kernelspec": {
      "name": "python3",
      "display_name": "Python 3"
    },
    "language_info": {
      "name": "python"
    },
    "accelerator": "GPU"
  },
  "cells": [
    {
      "cell_type": "code",
      "source": [
        "!pip install torchinfo -q"
      ],
      "metadata": {
        "id": "sypdPgTA6MDH"
      },
      "execution_count": null,
      "outputs": []
    },
    {
      "cell_type": "code",
      "execution_count": null,
      "metadata": {
        "colab": {
          "base_uri": "https://localhost:8080/"
        },
        "collapsed": true,
        "id": "AtskjhPDt9rZ",
        "outputId": "004d3bfd-6fcf-429a-d473-e6f4992d7cce"
      },
      "outputs": [
        {
          "output_type": "stream",
          "name": "stdout",
          "text": [
            "\u001b[?25l     \u001b[90m━━━━━━━━━━━━━━━━━━━━━━━━━━━━━━━━━━━━━━━━\u001b[0m \u001b[32m0.0/117.0 kB\u001b[0m \u001b[31m?\u001b[0m eta \u001b[36m-:--:--\u001b[0m\r\u001b[2K     \u001b[90m━━━━━━━━━━━━━━━━━━━━━━━━━━━━━━━━━━━━━━━\u001b[0m \u001b[32m117.0/117.0 kB\u001b[0m \u001b[31m7.6 MB/s\u001b[0m eta \u001b[36m0:00:00\u001b[0m\n",
            "\u001b[?25h  Preparing metadata (setup.py) ... \u001b[?25l\u001b[?25hdone\n",
            "\u001b[2K   \u001b[90m━━━━━━━━━━━━━━━━━━━━━━━━━━━━━━━━━━━━━━━━\u001b[0m \u001b[32m91.5/91.5 kB\u001b[0m \u001b[31m7.5 MB/s\u001b[0m eta \u001b[36m0:00:00\u001b[0m\n",
            "\u001b[2K   \u001b[90m━━━━━━━━━━━━━━━━━━━━━━━━━━━━━━━━━━━━━━━━\u001b[0m \u001b[32m44.8/44.8 kB\u001b[0m \u001b[31m1.7 MB/s\u001b[0m eta \u001b[36m0:00:00\u001b[0m\n",
            "\u001b[2K   \u001b[90m━━━━━━━━━━━━━━━━━━━━━━━━━━━━━━━━━━━━━━━━\u001b[0m \u001b[32m349.0/349.0 kB\u001b[0m \u001b[31m14.7 MB/s\u001b[0m eta \u001b[36m0:00:00\u001b[0m\n",
            "\u001b[2K   \u001b[90m━━━━━━━━━━━━━━━━━━━━━━━━━━━━━━━━━━━━━━━━\u001b[0m \u001b[32m422.8/422.8 kB\u001b[0m \u001b[31m10.4 MB/s\u001b[0m eta \u001b[36m0:00:00\u001b[0m\n",
            "\u001b[2K   \u001b[90m━━━━━━━━━━━━━━━━━━━━━━━━━━━━━━━━━━━━━━━━\u001b[0m \u001b[32m79.5/79.5 kB\u001b[0m \u001b[31m5.9 MB/s\u001b[0m eta \u001b[36m0:00:00\u001b[0m\n",
            "\u001b[2K   \u001b[90m━━━━━━━━━━━━━━━━━━━━━━━━━━━━━━━━━━━━━━━━\u001b[0m \u001b[32m2.0/2.0 MB\u001b[0m \u001b[31m58.8 MB/s\u001b[0m eta \u001b[36m0:00:00\u001b[0m\n",
            "\u001b[2K   \u001b[90m━━━━━━━━━━━━━━━━━━━━━━━━━━━━━━━━━━━━━━━━\u001b[0m \u001b[32m363.4/363.4 MB\u001b[0m \u001b[31m4.4 MB/s\u001b[0m eta \u001b[36m0:00:00\u001b[0m\n",
            "\u001b[2K   \u001b[90m━━━━━━━━━━━━━━━━━━━━━━━━━━━━━━━━━━━━━━━━\u001b[0m \u001b[32m13.8/13.8 MB\u001b[0m \u001b[31m67.4 MB/s\u001b[0m eta \u001b[36m0:00:00\u001b[0m\n",
            "\u001b[2K   \u001b[90m━━━━━━━━━━━━━━━━━━━━━━━━━━━━━━━━━━━━━━━━\u001b[0m \u001b[32m24.6/24.6 MB\u001b[0m \u001b[31m36.7 MB/s\u001b[0m eta \u001b[36m0:00:00\u001b[0m\n",
            "\u001b[2K   \u001b[90m━━━━━━━━━━━━━━━━━━━━━━━━━━━━━━━━━━━━━━━━\u001b[0m \u001b[32m883.7/883.7 kB\u001b[0m \u001b[31m50.7 MB/s\u001b[0m eta \u001b[36m0:00:00\u001b[0m\n",
            "\u001b[2K   \u001b[90m━━━━━━━━━━━━━━━━━━━━━━━━━━━━━━━━━━━━━━━━\u001b[0m \u001b[32m664.8/664.8 MB\u001b[0m \u001b[31m2.8 MB/s\u001b[0m eta \u001b[36m0:00:00\u001b[0m\n",
            "\u001b[2K   \u001b[90m━━━━━━━━━━━━━━━━━━━━━━━━━━━━━━━━━━━━━━━━\u001b[0m \u001b[32m211.5/211.5 MB\u001b[0m \u001b[31m5.4 MB/s\u001b[0m eta \u001b[36m0:00:00\u001b[0m\n",
            "\u001b[2K   \u001b[90m━━━━━━━━━━━━━━━━━━━━━━━━━━━━━━━━━━━━━━━━\u001b[0m \u001b[32m56.3/56.3 MB\u001b[0m \u001b[31m13.8 MB/s\u001b[0m eta \u001b[36m0:00:00\u001b[0m\n",
            "\u001b[2K   \u001b[90m━━━━━━━━━━━━━━━━━━━━━━━━━━━━━━━━━━━━━━━━\u001b[0m \u001b[32m127.9/127.9 MB\u001b[0m \u001b[31m7.1 MB/s\u001b[0m eta \u001b[36m0:00:00\u001b[0m\n",
            "\u001b[2K   \u001b[90m━━━━━━━━━━━━━━━━━━━━━━━━━━━━━━━━━━━━━━━━\u001b[0m \u001b[32m207.5/207.5 MB\u001b[0m \u001b[31m6.5 MB/s\u001b[0m eta \u001b[36m0:00:00\u001b[0m\n",
            "\u001b[2K   \u001b[90m━━━━━━━━━━━━━━━━━━━━━━━━━━━━━━━━━━━━━━━━\u001b[0m \u001b[32m21.1/21.1 MB\u001b[0m \u001b[31m43.8 MB/s\u001b[0m eta \u001b[36m0:00:00\u001b[0m\n",
            "\u001b[2K   \u001b[90m━━━━━━━━━━━━━━━━━━━━━━━━━━━━━━━━━━━━━━━━\u001b[0m \u001b[32m1.6/1.6 MB\u001b[0m \u001b[31m70.9 MB/s\u001b[0m eta \u001b[36m0:00:00\u001b[0m\n",
            "\u001b[?25h  Building wheel for antlr4-python3-runtime (setup.py) ... \u001b[?25l\u001b[?25hdone\n"
          ]
        }
      ],
      "source": [
        "!pip install xlstm --quiet"
      ]
    },
    {
      "cell_type": "code",
      "execution_count": null,
      "metadata": {
        "id": "5FcJ5W2juCK3"
      },
      "outputs": [],
      "source": [
        "import torch\n",
        "from torch import nn\n",
        "from torchinfo import summary\n",
        "\n",
        "from xlstm import (\n",
        "    xLSTMBlockStack,\n",
        "    xLSTMBlockStackConfig,\n",
        "    mLSTMBlockConfig,\n",
        "    mLSTMLayerConfig,\n",
        "    sLSTMBlockConfig,\n",
        "    sLSTMLayerConfig,\n",
        "    FeedForwardConfig,\n",
        ")\n",
        "\n",
        "SEQ_LENGTH_XLSTM = 150"
      ]
    },
    {
      "cell_type": "code",
      "source": [
        "def create_xlstm_model(seq_length, num_blocks, slstm_pos, num_heads=2, conv1d_kernel_size=2, proj_factor=1.1, input_size=1, output_size=1):\n",
        "    # Define your input size, hidden size, and other relevant parameters\n",
        "    input_size = input_size  # Number of features in your time series\n",
        "    embedding_dim = 64  # Dimension of the embeddings, reduced to save memory\n",
        "    output_size = output_size  # Number of output features (predicting the next value)\n",
        "\n",
        "    # Define the xLSTM configuration\n",
        "    cfg = xLSTMBlockStackConfig(\n",
        "        mlstm_block=mLSTMBlockConfig(\n",
        "            mlstm=mLSTMLayerConfig(\n",
        "                conv1d_kernel_size=conv1d_kernel_size, qkv_proj_blocksize=2, num_heads=num_heads  # Reduced parameters to save memory\n",
        "            )\n",
        "        ),\n",
        "        slstm_block=sLSTMBlockConfig(\n",
        "            slstm=sLSTMLayerConfig(\n",
        "                backend=\"cuda\",\n",
        "                num_heads=num_heads,  # Reduced number of heads to save memory\n",
        "                conv1d_kernel_size=conv1d_kernel_size,  # Reduced kernel size to save memory\n",
        "                bias_init=\"powerlaw_blockdependent\",\n",
        "            ),\n",
        "            feedforward=FeedForwardConfig(proj_factor=proj_factor, act_fn=\"gelu\"),  # Reduced projection factor to save memory\n",
        "        ),\n",
        "        context_length=seq_length,\n",
        "        num_blocks=num_blocks,  # Reduced number of blocks to save memory\n",
        "        embedding_dim=embedding_dim,\n",
        "        slstm_at=slstm_pos,\n",
        "    )\n",
        "\n",
        "    # Instantiate the xLSTM stack\n",
        "    xlstm_stack = xLSTMBlockStack(cfg).to(\"cuda\")\n",
        "\n",
        "    # Add a linear layer to project input data to the required embedding dimension\n",
        "    input_projection = nn.Linear(input_size, embedding_dim).to(\"cuda\")\n",
        "\n",
        "    # Add a final linear layer to project the xLSTM output to the desired output size\n",
        "    output_projection = nn.Linear(embedding_dim, output_size).to(\"cuda\")\n",
        "\n",
        "    return xlstm_stack, input_projection, output_projection"
      ],
      "metadata": {
        "id": "0gpdSbA52FUg"
      },
      "execution_count": null,
      "outputs": []
    },
    {
      "cell_type": "code",
      "source": [
        "import time\n",
        "from functools import wraps\n",
        "\n",
        "def timeit(func):\n",
        "    @wraps(func)\n",
        "    def wrapper(*args, **kwargs):\n",
        "        architecture = kwargs.get('architecture', 'Unknown Architecture')\n",
        "        start_time = time.time()\n",
        "        result = func(*args, **kwargs)\n",
        "        end_time = time.time()\n",
        "        elapsed_time = end_time - start_time\n",
        "        print(f\"\\nArchitecture - {architecture} took {elapsed_time:.2f} seconds to train.\")\n",
        "        return result\n",
        "    return wrapper"
      ],
      "metadata": {
        "id": "ae2K8vFimYFM"
      },
      "execution_count": null,
      "outputs": []
    },
    {
      "cell_type": "code",
      "source": [
        "from tqdm import tqdm\n",
        "\n",
        "@timeit\n",
        "def train_model(epochs, model, input_projection, output_projection, train_data, optimizer, criterion, architecture=None):\n",
        "\n",
        "    losses = []\n",
        "\n",
        "    print(f'Training xLSTM {architecture} for {epochs} epochs...')\n",
        "\n",
        "    for epoch in range(epochs):\n",
        "        model.train()\n",
        "\n",
        "        epoch_loss = 0.0\n",
        "\n",
        "        progress = tqdm(train_data, desc=f\"Epoch {epoch+1}/{epochs}\", leave=False)\n",
        "\n",
        "        for inputs, targets in progress:\n",
        "            projected_input_data = input_projection(inputs)\n",
        "            xlstm_output = model(projected_input_data)\n",
        "            predictions = output_projection(xlstm_output[:, -1, :])  # Use the last time step's output\n",
        "\n",
        "            # Ensure the shapes match\n",
        "            predictions = predictions.squeeze(-1)\n",
        "            batch_y = targets.squeeze(-1)\n",
        "\n",
        "            # Compute the loss\n",
        "            loss = criterion(predictions, batch_y)\n",
        "\n",
        "            losses.append(loss.cpu().detach().item())\n",
        "\n",
        "            # Backward pass and optimization\n",
        "            optimizer.zero_grad()\n",
        "            loss.backward()\n",
        "            torch.nn.utils.clip_grad_norm_(model.parameters(), max_norm=1.0)  # Apply gradient clipping to prevent the exploding gradient problem\n",
        "            optimizer.step()\n",
        "\n",
        "            epoch_loss += loss.item()\n",
        "\n",
        "            progress.set_postfix(loss=loss.item())\n",
        "\n",
        "        avg_epoch_loss = epoch_loss / len(train_data)\n",
        "        print(f\"Epoch {epoch+1}: Avg Loss = {avg_epoch_loss:.6f}\")\n",
        "        losses.append(avg_epoch_loss)\n",
        "\n",
        "    return losses"
      ],
      "metadata": {
        "id": "yny7TxehB8yR"
      },
      "execution_count": null,
      "outputs": []
    },
    {
      "cell_type": "code",
      "source": [
        "def train_test_split(dataset, train_percent):\n",
        "    train_size = int(len(dataset) * train_percent)\n",
        "    test_size = len(dataset) - train_size\n",
        "    train, test = dataset[0:train_size, :], dataset[train_size:len(dataset), :]\n",
        "\n",
        "    return train, test"
      ],
      "metadata": {
        "id": "loBMN373s4SU"
      },
      "execution_count": null,
      "outputs": []
    },
    {
      "cell_type": "code",
      "source": [
        "def create_dataset(dataset, seq_len=SEQUENCE_LENGTH):\n",
        "    dataX, dataY = [], []\n",
        "\n",
        "    for i in range(len(dataset) - seq_len):\n",
        "        a = dataset[i:(i + seq_len - 1)]\n",
        "        dataX.append(a)\n",
        "        dataY.append(dataset[i + seq_len - 1])\n",
        "\n",
        "    return torch.Tensor(dataX).to('cuda'), torch.Tensor(dataY).to('cuda')"
      ],
      "metadata": {
        "id": "WNxKJc0DT09m"
      },
      "execution_count": null,
      "outputs": []
    },
    {
      "cell_type": "code",
      "source": [
        "from torch.utils.data import TensorDataset, DataLoader\n",
        "\n",
        "def create_dataloader(x, y, is_train=True):\n",
        "    return DataLoader(TensorDataset(x, y), batch_size=BATCH_SIZE, shuffle=True if is_train else False)"
      ],
      "metadata": {
        "id": "45LrJiWZtEn1"
      },
      "execution_count": null,
      "outputs": []
    },
    {
      "cell_type": "code",
      "source": [
        "import matplotlib.pyplot as plt\n",
        "\n",
        "def plot_losses(losses, title=None):\n",
        "    plt.figure(figsize=(10, 8))\n",
        "    plt.title(title)\n",
        "    plt.plot(range(len(losses)), losses)\n",
        "    plt.xlabel('Num. Batch Epochs')\n",
        "    plt.ylabel('Loss')\n",
        "    plt.show()"
      ],
      "metadata": {
        "id": "5GWwS0xYxVbf"
      },
      "execution_count": null,
      "outputs": []
    },
    {
      "cell_type": "code",
      "source": [
        "import numpy as np\n",
        "import torch\n",
        "\n",
        "def get_preds(model, input_projection, output_projection, test_data):\n",
        "    preds = []\n",
        "    labels = []\n",
        "\n",
        "    model.eval()\n",
        "\n",
        "    with torch.no_grad():\n",
        "        for inputs, label in test_data:\n",
        "            projected_input_data = input_projection(inputs)\n",
        "            xlstm_output = model(projected_input_data)\n",
        "            predictions = output_projection(xlstm_output[:, -1, :])  # Use the last time step's output\n",
        "\n",
        "            predictions = torch.sigmoid(predictions)\n",
        "\n",
        "            predictions = predictions.squeeze()\n",
        "            for pred in predictions:\n",
        "                preds.append(pred.cpu().item())\n",
        "\n",
        "            labels.extend(label.cpu().numpy())\n",
        "\n",
        "    return (np.array(preds) > 0.5).astype(int).reshape(-1, 1), labels"
      ],
      "metadata": {
        "id": "GDrPPJOS1cVC"
      },
      "execution_count": null,
      "outputs": []
    },
    {
      "cell_type": "code",
      "source": [
        "def plot_original_vs_predicted(original, predicted, scaler, title=None):\n",
        "    preds_rescaled = scaler.inverse_transform(predicted)\n",
        "    original_rescaled = scaler.inverse_transform(original.cpu().numpy())\n",
        "\n",
        "    plt.figure(figsize=(10, 8))\n",
        "    plt.title(title)\n",
        "    plt.plot(range(len(preds_rescaled)), preds_rescaled, linestyle='--', c='r', label='Predicted')\n",
        "    plt.plot(range(len(original_rescaled)), original_rescaled, c='b', label='Original')\n",
        "\n",
        "    plt.legend()\n",
        "    plt.show()"
      ],
      "metadata": {
        "id": "JWc63fe11306"
      },
      "execution_count": null,
      "outputs": []
    },
    {
      "cell_type": "code",
      "source": [
        "import matplotlib.pyplot as plt\n",
        "import seaborn as sns\n",
        "from sklearn.metrics import confusion_matrix, accuracy_score, precision_score, recall_score, f1_score\n",
        "\n",
        "def evaluate_classification(y_true, y_pred, title=\"Confusion Matrix\"):\n",
        "    # Compute confusion matrix\n",
        "    cm = confusion_matrix(y_true, y_pred)\n",
        "\n",
        "    # Plot confusion matrix\n",
        "    plt.figure(figsize=(6, 5))\n",
        "    sns.heatmap(cm, annot=True, fmt=\"d\", cmap=\"Blues\", xticklabels=[0,1], yticklabels=[0,1])\n",
        "    plt.xlabel(\"Predicted Label\")\n",
        "    plt.ylabel(\"True Label\")\n",
        "    plt.title(title)\n",
        "    plt.tight_layout()\n",
        "    plt.show()\n",
        "\n",
        "    # Compute and print metrics\n",
        "    acc = accuracy_score(y_true, y_pred)\n",
        "    prec = precision_score(y_true, y_pred)\n",
        "    rec = recall_score(y_true, y_pred)\n",
        "    f1 = f1_score(y_true, y_pred)\n",
        "\n",
        "    print(f\"Accuracy:  {acc:.4f}\")\n",
        "    print(f\"Precision: {prec:.4f}\")\n",
        "    print(f\"Recall:    {rec:.4f}\")\n",
        "    print(f\"F1 Score:  {f1:.4f}\")\n"
      ],
      "metadata": {
        "id": "U_Yof4L2ypZK"
      },
      "execution_count": null,
      "outputs": []
    },
    {
      "cell_type": "markdown",
      "source": [
        "# Dyck Language Generation"
      ],
      "metadata": {
        "id": "1asbrHJLqwtZ"
      }
    },
    {
      "cell_type": "code",
      "source": [
        "import torch\n",
        "\n",
        "device = 'cuda' if torch.cuda.is_available() else 'cpu'"
      ],
      "metadata": {
        "id": "47-yVwcut3j3"
      },
      "execution_count": null,
      "outputs": []
    },
    {
      "cell_type": "code",
      "source": [
        "import random\n",
        "\n",
        "# Data Generator for Dyck Language (Balanced Parentheses)\n",
        "def generate_dyck(n_samples, max_len=20):\n",
        "    data = []\n",
        "    labels = []\n",
        "    for _ in range(n_samples):\n",
        "        depth = 0\n",
        "        s = ''\n",
        "        while len(s) < max_len:\n",
        "            if depth == 0:\n",
        "                s += '('\n",
        "                depth += 1\n",
        "            else:\n",
        "                if random.random() < 0.5:\n",
        "                    s += '('\n",
        "                    depth += 1\n",
        "                else:\n",
        "                    s += ')'\n",
        "                    depth -= 1\n",
        "                    if depth < 0:  # unbalanced\n",
        "                        break\n",
        "        s = s[:max_len]\n",
        "        label = 1 if s.count('(') == s.count(')') and depth == 0 else 0\n",
        "        s = s.ljust(max_len)\n",
        "        data.append(s)\n",
        "        labels.append(label)\n",
        "    return data, torch.Tensor(labels).to(device)\n",
        "\n",
        "# Tokenizer and vectorizer\n",
        "def vectorize_data(sequences, vocab={'(': 0, ')': 1, ' ': 2}):\n",
        "    vocab_size = len(vocab)\n",
        "    vec = np.zeros((len(sequences), len(sequences[0]), vocab_size), dtype=np.float32)\n",
        "    for i, seq in enumerate(sequences):\n",
        "        for t, char in enumerate(seq):\n",
        "            vec[i, t, vocab[char]] = 1.0\n",
        "    return torch.Tensor(vec).to(device)"
      ],
      "metadata": {
        "id": "XLv115pBqu4b"
      },
      "execution_count": null,
      "outputs": []
    },
    {
      "cell_type": "code",
      "source": [
        "max_len = 20\n",
        "input_dim = 3\n",
        "\n",
        "    # Create dataset\n",
        "train_seqs, train_labels = generate_dyck(2000, max_len)\n",
        "test_seqs, test_labels = generate_dyck(500, max_len)\n",
        "x_train = vectorize_data(train_seqs)\n",
        "x_test = vectorize_data(test_seqs)\n",
        "y_train = torch.Tensor(train_labels)\n",
        "y_test = torch.Tensor(test_labels)"
      ],
      "metadata": {
        "id": "joUcaSDKq1Zw"
      },
      "execution_count": null,
      "outputs": []
    },
    {
      "cell_type": "code",
      "source": [
        "train_dataloader = create_dataloader(x_train, y_train)\n",
        "test_dataloader = create_dataloader(x_test, y_test, is_train=False)"
      ],
      "metadata": {
        "id": "tQYI1MWSq9cM"
      },
      "execution_count": null,
      "outputs": []
    },
    {
      "cell_type": "code",
      "source": [
        "inp, target = next(iter(train_dataloader))\n",
        "\n",
        "inp.shape, target.shape, target"
      ],
      "metadata": {
        "colab": {
          "base_uri": "https://localhost:8080/"
        },
        "id": "68wwpSpAsetC",
        "outputId": "ec5fcf69-845a-4f72-df83-f3a382824bd7"
      },
      "execution_count": null,
      "outputs": [
        {
          "output_type": "execute_result",
          "data": {
            "text/plain": [
              "(torch.Size([3, 20, 3]),\n",
              " torch.Size([3]),\n",
              " tensor([0., 0., 0.], device='cuda:0'))"
            ]
          },
          "metadata": {},
          "execution_count": 111
        }
      ]
    },
    {
      "cell_type": "code",
      "source": [
        "SEQUENCE_LENGTH=20\n",
        "BATCH_SIZE=3\n",
        "INPUT_SIZE=3"
      ],
      "metadata": {
        "id": "l28Qm32NslFl"
      },
      "execution_count": null,
      "outputs": []
    },
    {
      "cell_type": "markdown",
      "source": [
        "## xLSTM Model"
      ],
      "metadata": {
        "id": "SBwVdrJgz92p"
      }
    },
    {
      "cell_type": "code",
      "source": [
        "from torch.optim import Adam\n",
        "\n",
        "num_epochs = 5\n",
        "\n",
        "xlstm_stack, input_projection, output_projection = create_xlstm_model(SEQUENCE_LENGTH, num_blocks=1, slstm_pos=[0], input_size=3, output_size=1)\n",
        "criterion = nn.BCEWithLogitsLoss()  # Binary Cross Entorpy with Logits\n",
        "optimizer = Adam(list(xlstm_stack.parameters()) + list(input_projection.parameters()) + list(output_projection.parameters()), lr=0.0001)"
      ],
      "metadata": {
        "colab": {
          "base_uri": "https://localhost:8080/"
        },
        "id": "pzoJ1TaYs4y3",
        "outputId": "e2719dde-71c3-4293-cf76-d68e4f83bb6d"
      },
      "execution_count": null,
      "outputs": [
        {
          "output_type": "stream",
          "name": "stdout",
          "text": [
            "{'verbose': True, 'with_cuda': True, 'extra_ldflags': ['-L/usr/local/cuda/lib', '-lcublas'], 'extra_cflags': ['-DSLSTM_HIDDEN_SIZE=64', '-DSLSTM_BATCH_SIZE=8', '-DSLSTM_NUM_HEADS=2', '-DSLSTM_NUM_STATES=4', '-DSLSTM_DTYPE_B=float', '-DSLSTM_DTYPE_R=__nv_bfloat16', '-DSLSTM_DTYPE_W=__nv_bfloat16', '-DSLSTM_DTYPE_G=__nv_bfloat16', '-DSLSTM_DTYPE_S=__nv_bfloat16', '-DSLSTM_DTYPE_A=float', '-DSLSTM_NUM_GATES=4', '-DSLSTM_SIMPLE_AGG=true', '-DSLSTM_GRADIENT_RECURRENT_CLIPVAL_VALID=false', '-DSLSTM_GRADIENT_RECURRENT_CLIPVAL=0.0', '-DSLSTM_FORWARD_CLIPVAL_VALID=false', '-DSLSTM_FORWARD_CLIPVAL=0.0', '-U__CUDA_NO_HALF_OPERATORS__', '-U__CUDA_NO_HALF_CONVERSIONS__', '-U__CUDA_NO_BFLOAT16_OPERATORS__', '-U__CUDA_NO_BFLOAT16_CONVERSIONS__', '-U__CUDA_NO_BFLOAT162_OPERATORS__', '-U__CUDA_NO_BFLOAT162_CONVERSIONS__'], 'extra_cuda_cflags': ['-Xptxas=\"-v\"', '-gencode', 'arch=compute_80,code=compute_80', '-res-usage', '--use_fast_math', '-O3', '-Xptxas -O3', '--extra-device-vectorization', '-DSLSTM_HIDDEN_SIZE=64', '-DSLSTM_BATCH_SIZE=8', '-DSLSTM_NUM_HEADS=2', '-DSLSTM_NUM_STATES=4', '-DSLSTM_DTYPE_B=float', '-DSLSTM_DTYPE_R=__nv_bfloat16', '-DSLSTM_DTYPE_W=__nv_bfloat16', '-DSLSTM_DTYPE_G=__nv_bfloat16', '-DSLSTM_DTYPE_S=__nv_bfloat16', '-DSLSTM_DTYPE_A=float', '-DSLSTM_NUM_GATES=4', '-DSLSTM_SIMPLE_AGG=true', '-DSLSTM_GRADIENT_RECURRENT_CLIPVAL_VALID=false', '-DSLSTM_GRADIENT_RECURRENT_CLIPVAL=0.0', '-DSLSTM_FORWARD_CLIPVAL_VALID=false', '-DSLSTM_FORWARD_CLIPVAL=0.0', '-U__CUDA_NO_HALF_OPERATORS__', '-U__CUDA_NO_HALF_CONVERSIONS__', '-U__CUDA_NO_BFLOAT16_OPERATORS__', '-U__CUDA_NO_BFLOAT16_CONVERSIONS__', '-U__CUDA_NO_BFLOAT162_OPERATORS__', '-U__CUDA_NO_BFLOAT162_CONVERSIONS__']}\n"
          ]
        },
        {
          "output_type": "stream",
          "name": "stderr",
          "text": [
            "Using /root/.cache/torch_extensions/py311_cu124 as PyTorch extensions root...\n",
            "No modifications detected for re-loaded extension module slstm_HS64BS8NH2NS4DBfDRbDWbDGbDSbDAfNG4SA1GRCV0GRC0d0FCV0FC0d0, skipping build step...\n",
            "Loading extension module slstm_HS64BS8NH2NS4DBfDRbDWbDGbDSbDAfNG4SA1GRCV0GRC0d0FCV0FC0d0...\n",
            "/usr/local/lib/python3.11/dist-packages/xlstm/blocks/slstm/cell.py:543: FutureWarning: `torch.cuda.amp.custom_fwd(args...)` is deprecated. Please use `torch.amp.custom_fwd(args..., device_type='cuda')` instead.\n",
            "  @conditional_decorator(\n",
            "/usr/local/lib/python3.11/dist-packages/xlstm/blocks/slstm/cell.py:568: FutureWarning: `torch.cuda.amp.custom_bwd(args...)` is deprecated. Please use `torch.amp.custom_bwd(args..., device_type='cuda')` instead.\n",
            "  @conditional_decorator(\n"
          ]
        }
      ]
    },
    {
      "cell_type": "code",
      "source": [
        "summary(xlstm_stack)"
      ],
      "metadata": {
        "colab": {
          "base_uri": "https://localhost:8080/"
        },
        "id": "eaTFhRjBtP2o",
        "outputId": "9ffdf8f9-4dfc-4ec7-8d26-e1051f287e6e"
      },
      "execution_count": null,
      "outputs": [
        {
          "output_type": "execute_result",
          "data": {
            "text/plain": [
              "===========================================================================\n",
              "Layer (type:depth-idx)                             Param #\n",
              "===========================================================================\n",
              "xLSTMBlockStack                                    --\n",
              "├─ModuleList: 1-1                                  --\n",
              "│    └─sLSTMBlock: 2-1                             --\n",
              "│    │    └─LayerNorm: 3-1                         64\n",
              "│    │    └─sLSTMLayer: 3-2                        16,896\n",
              "│    │    └─LayerNorm: 3-3                         64\n",
              "│    │    └─GatedFeedForward: 3-4                  24,576\n",
              "├─LayerNorm: 1-2                                   64\n",
              "===========================================================================\n",
              "Total params: 41,664\n",
              "Trainable params: 41,664\n",
              "Non-trainable params: 0\n",
              "==========================================================================="
            ]
          },
          "metadata": {},
          "execution_count": 120
        }
      ]
    },
    {
      "cell_type": "code",
      "source": [
        "losses = train_model(num_epochs, xlstm_stack, input_projection, output_projection, train_dataloader, optimizer, criterion, architecture='[s]')"
      ],
      "metadata": {
        "colab": {
          "base_uri": "https://localhost:8080/"
        },
        "id": "iPpcpBomtsTv",
        "outputId": "4f59d278-1fd8-4b14-9249-1e70afec1941"
      },
      "execution_count": null,
      "outputs": [
        {
          "output_type": "stream",
          "name": "stdout",
          "text": [
            "Training xLSTM [s] for 5 epochs...\n"
          ]
        },
        {
          "output_type": "stream",
          "name": "stderr",
          "text": []
        },
        {
          "output_type": "stream",
          "name": "stdout",
          "text": [
            "Epoch 1: Avg Loss = 0.339715\n"
          ]
        },
        {
          "output_type": "stream",
          "name": "stderr",
          "text": []
        },
        {
          "output_type": "stream",
          "name": "stdout",
          "text": [
            "Epoch 2: Avg Loss = 0.223148\n"
          ]
        },
        {
          "output_type": "stream",
          "name": "stderr",
          "text": []
        },
        {
          "output_type": "stream",
          "name": "stdout",
          "text": [
            "Epoch 3: Avg Loss = 0.195134\n"
          ]
        },
        {
          "output_type": "stream",
          "name": "stderr",
          "text": []
        },
        {
          "output_type": "stream",
          "name": "stdout",
          "text": [
            "Epoch 4: Avg Loss = 0.166299\n"
          ]
        },
        {
          "output_type": "stream",
          "name": "stderr",
          "text": [
            "                                                                          "
          ]
        },
        {
          "output_type": "stream",
          "name": "stdout",
          "text": [
            "Epoch 5: Avg Loss = 0.133072\n",
            "\n",
            "Architecture - [s] took 31.29 seconds to train.\n"
          ]
        },
        {
          "output_type": "stream",
          "name": "stderr",
          "text": [
            "\r"
          ]
        }
      ]
    },
    {
      "cell_type": "code",
      "source": [
        "plot_losses(losses, 'Dyck String Generation xLSTM [s]')"
      ],
      "metadata": {
        "colab": {
          "base_uri": "https://localhost:8080/",
          "height": 718
        },
        "id": "FgCndtQqucRy",
        "outputId": "57401087-aafb-4db8-bd02-ca3578a51d3d"
      },
      "execution_count": null,
      "outputs": [
        {
          "output_type": "display_data",
          "data": {
            "text/plain": [
              "<Figure size 1000x800 with 1 Axes>"
            ],
            "image/png": "[encoded data removed]"
          },
          "metadata": {}
        }
      ]
    },
    {
      "cell_type": "code",
      "source": [
        "preds, labels = get_preds(xlstm_stack, input_projection, output_projection, test_dataloader)"
      ],
      "metadata": {
        "id": "KXq5lVEJxBEW"
      },
      "execution_count": null,
      "outputs": []
    },
    {
      "cell_type": "code",
      "source": [
        "preds = preds.flatten()"
      ],
      "metadata": {
        "id": "XrlYh5fy27Dc"
      },
      "execution_count": null,
      "outputs": []
    },
    {
      "cell_type": "code",
      "source": [
        "evaluate_classification(y_true=labels, y_pred=preds, title='xLSTM [s] Metrics on Dyck String Generation Task')"
      ],
      "metadata": {
        "colab": {
          "base_uri": "https://localhost:8080/",
          "height": 576
        },
        "id": "xv7kP3AVxTx3",
        "outputId": "24e0af53-d1d3-4c63-d3c6-7bbd09306fb2"
      },
      "execution_count": null,
      "outputs": [
        {
          "output_type": "display_data",
          "data": {
            "text/plain": [
              "<Figure size 600x500 with 2 Axes>"
            ],
            "image/png": "[encoded data removed]"
          },
          "metadata": {}
        },
        {
          "output_type": "stream",
          "name": "stdout",
          "text": [
            "Accuracy:  0.9700\n",
            "Precision: 0.8515\n",
            "Recall:    1.0000\n",
            "F1 Score:  0.9198\n"
          ]
        }
      ]
    },
    {
      "cell_type": "markdown",
      "source": [
        "## LSTM Model"
      ],
      "metadata": {
        "id": "JmuuP7ilz79K"
      }
    },
    {
      "cell_type": "code",
      "source": [
        "import torch\n",
        "import torch.nn as nn\n",
        "\n",
        "class DyckLSTMClassifier(nn.Module):\n",
        "    def __init__(self, input_dim=3, hidden_dim=128, num_layers=1, dropout=0.1):\n",
        "        super(DyckLSTMClassifier, self).__init__()\n",
        "\n",
        "        self.lstm = nn.LSTM(\n",
        "            input_size=input_dim,\n",
        "            hidden_size=hidden_dim,\n",
        "            num_layers=num_layers,\n",
        "            batch_first=True,\n",
        "            dropout=dropout if num_layers > 1 else 0.0\n",
        "        )\n",
        "\n",
        "        self.fc = nn.Linear(hidden_dim, 1)  # binary classification\n",
        "        # no sigmoid here → use BCEWithLogitsLoss\n",
        "\n",
        "    def forward(self, x):\n",
        "        # x shape: (batch_size, seq_len, input_dim)\n",
        "        lstm_out, _ = self.lstm(x)  # lstm_out: (batch, seq_len, hidden_dim)\n",
        "        final_timestep = lstm_out[:, -1, :]  # take last time step\n",
        "        logits = self.fc(final_timestep)     # (batch_size, 1)\n",
        "        return logits"
      ],
      "metadata": {
        "id": "1_5V6-n7y3T8"
      },
      "execution_count": null,
      "outputs": []
    },
    {
      "cell_type": "code",
      "source": [
        "import torch\n",
        "import torch.nn as nn\n",
        "import torch.optim as optim\n",
        "\n",
        "# Step 1: Instantiate the model\n",
        "model = DyckLSTMClassifier(input_dim=3, hidden_dim=128).to(\"cuda\")\n",
        "\n",
        "# Step 2: Define loss and optimizer\n",
        "criterion = nn.BCEWithLogitsLoss()  # sigmoid will be applied inside this\n",
        "optimizer = optim.Adam(model.parameters(), lr=1e-3)"
      ],
      "metadata": {
        "id": "tVDzIBPW0BKS"
      },
      "execution_count": null,
      "outputs": []
    },
    {
      "cell_type": "code",
      "source": [
        "from tqdm import tqdm\n",
        "\n",
        "def train(model, train_loader, criterion, optimizer, epochs=5):\n",
        "    model.train()\n",
        "    for epoch in range(epochs):\n",
        "        running_loss = 0.0\n",
        "        progress = tqdm(train_loader, desc=f\"Epoch {epoch+1}/{epochs}\")\n",
        "\n",
        "        for inputs, targets in progress:\n",
        "            inputs = inputs.to(\"cuda\")\n",
        "            targets = targets.to(\"cuda\").float()  # BCEWithLogitsLoss needs float\n",
        "\n",
        "            optimizer.zero_grad()\n",
        "            logits = model(inputs).squeeze()  # shape: (batch_size,)\n",
        "            loss = criterion(logits, targets)\n",
        "            loss.backward()\n",
        "            optimizer.step()\n",
        "\n",
        "            running_loss += loss.item()\n",
        "            progress.set_postfix(loss=loss.item())\n",
        "\n",
        "        print(f\"Epoch {epoch+1}: Avg Loss = {running_loss / len(train_loader):.4f}\")"
      ],
      "metadata": {
        "id": "W6UfCPvL0IES"
      },
      "execution_count": null,
      "outputs": []
    },
    {
      "cell_type": "code",
      "source": [
        "def get_preds_and_labels(model, test_loader, threshold=0.5):\n",
        "    preds, labels = [], []\n",
        "    model.eval()\n",
        "\n",
        "    with torch.no_grad():\n",
        "        for inputs, targets in test_loader:\n",
        "            inputs = inputs.to(\"cuda\")\n",
        "            logits = model(inputs).squeeze()\n",
        "            probs = torch.sigmoid(logits)\n",
        "            predicted = (probs > threshold).int().cpu().numpy()\n",
        "            preds.extend(predicted)\n",
        "            labels.extend(targets.cpu().numpy())\n",
        "\n",
        "    return np.array(preds), np.array(labels)"
      ],
      "metadata": {
        "id": "aVrv7hAj0UiO"
      },
      "execution_count": null,
      "outputs": []
    },
    {
      "cell_type": "code",
      "source": [
        "train(model, train_dataloader, criterion, optimizer, epochs=5)"
      ],
      "metadata": {
        "colab": {
          "base_uri": "https://localhost:8080/"
        },
        "id": "fA13-bQc0KQP",
        "outputId": "a77b121b-0c83-45ee-8882-3fe16c208dcb"
      },
      "execution_count": null,
      "outputs": [
        {
          "output_type": "stream",
          "name": "stderr",
          "text": [
            "Epoch 1/5: 100%|██████████| 667/667 [00:03<00:00, 209.80it/s, loss=0.0108]\n"
          ]
        },
        {
          "output_type": "stream",
          "name": "stdout",
          "text": [
            "Epoch 1: Avg Loss = 0.4030\n"
          ]
        },
        {
          "output_type": "stream",
          "name": "stderr",
          "text": [
            "Epoch 2/5: 100%|██████████| 667/667 [00:02<00:00, 273.42it/s, loss=0.233]\n"
          ]
        },
        {
          "output_type": "stream",
          "name": "stdout",
          "text": [
            "Epoch 2: Avg Loss = 0.1426\n"
          ]
        },
        {
          "output_type": "stream",
          "name": "stderr",
          "text": [
            "Epoch 3/5: 100%|██████████| 667/667 [00:02<00:00, 272.94it/s, loss=0.00109]\n"
          ]
        },
        {
          "output_type": "stream",
          "name": "stdout",
          "text": [
            "Epoch 3: Avg Loss = 0.0551\n"
          ]
        },
        {
          "output_type": "stream",
          "name": "stderr",
          "text": [
            "Epoch 4/5: 100%|██████████| 667/667 [00:02<00:00, 247.25it/s, loss=0.00396]\n"
          ]
        },
        {
          "output_type": "stream",
          "name": "stdout",
          "text": [
            "Epoch 4: Avg Loss = 0.0233\n"
          ]
        },
        {
          "output_type": "stream",
          "name": "stderr",
          "text": [
            "Epoch 5/5: 100%|██████████| 667/667 [00:02<00:00, 256.12it/s, loss=0.0232]"
          ]
        },
        {
          "output_type": "stream",
          "name": "stdout",
          "text": [
            "Epoch 5: Avg Loss = 0.0410\n"
          ]
        },
        {
          "output_type": "stream",
          "name": "stderr",
          "text": [
            "\n"
          ]
        }
      ]
    },
    {
      "cell_type": "code",
      "source": [
        "preds, labels = get_preds_and_labels(model, test_dataloader)"
      ],
      "metadata": {
        "id": "kTCoNIpD0NUU"
      },
      "execution_count": null,
      "outputs": []
    },
    {
      "cell_type": "code",
      "source": [
        "evaluate_classification(y_true=labels, y_pred=preds, title='LSTM Model Dyck String Generation')"
      ],
      "metadata": {
        "colab": {
          "base_uri": "https://localhost:8080/",
          "height": 576
        },
        "id": "mg-6vsug0YMY",
        "outputId": "14cec5f0-7903-4cd5-c979-00c6c035daf7"
      },
      "execution_count": null,
      "outputs": [
        {
          "output_type": "display_data",
          "data": {
            "text/plain": [
              "<Figure size 600x500 with 2 Axes>"
            ],
            "image/png": "[encoded data removed]"
          },
          "metadata": {}
        },
        {
          "output_type": "stream",
          "name": "stdout",
          "text": [
            "Accuracy:  1.0000\n",
            "Precision: 1.0000\n",
            "Recall:    1.0000\n",
            "F1 Score:  1.0000\n"
          ]
        }
      ]
    },
    {
      "cell_type": "markdown",
      "source": [
        "## GRU Model"
      ],
      "metadata": {
        "id": "ysW0XVos3QxD"
      }
    },
    {
      "cell_type": "code",
      "source": [
        "import torch\n",
        "import torch.nn as nn\n",
        "\n",
        "class DyckGRUClassifier(nn.Module):\n",
        "    def __init__(self, input_dim=3, hidden_dim=128, num_layers=1, dropout=0.2):\n",
        "        super(DyckGRUClassifier, self).__init__()\n",
        "\n",
        "        self.gru = nn.GRU(input_dim, hidden_dim, num_layers=num_layers, batch_first=True, dropout=dropout)\n",
        "        self.fc = nn.Linear(hidden_dim, 1)  # Output is a single logit\n",
        "        self.sigmoid = nn.Sigmoid()        # To turn logit into probability\n",
        "\n",
        "    def forward(self, x):\n",
        "        gru_out, _ = self.gru(x)                      # Output: (batch, seq_len, hidden_dim)\n",
        "        last_hidden = gru_out[:, -1, :]               # Take output from last time step\n",
        "        logits = self.fc(last_hidden)                 # Output: (batch, 1)\n",
        "        probs = self.sigmoid(logits)                  # Output: (batch, 1)\n",
        "        return probs"
      ],
      "metadata": {
        "id": "9Bp-6JxZ3Rvy"
      },
      "execution_count": null,
      "outputs": []
    },
    {
      "cell_type": "code",
      "source": [
        "# Create the model\n",
        "gru_model = DyckGRUClassifier().to(device)\n",
        "\n",
        "# Define loss and optimizer\n",
        "criterion = nn.BCELoss()                              # Since output is probability (0-1)\n",
        "optimizer = torch.optim.Adam(gru_model.parameters(), lr=0.001)\n",
        "\n",
        "train(gru_model, train_dataloader, criterion, optimizer, epochs=5)"
      ],
      "metadata": {
        "colab": {
          "base_uri": "https://localhost:8080/"
        },
        "id": "Fiobo-Tf3SND",
        "outputId": "192d0f82-1ca5-42a4-ceab-0396ac33316f"
      },
      "execution_count": null,
      "outputs": [
        {
          "output_type": "stream",
          "name": "stderr",
          "text": [
            "/usr/local/lib/python3.11/dist-packages/torch/nn/modules/rnn.py:123: UserWarning: dropout option adds dropout after all but last recurrent layer, so non-zero dropout expects num_layers greater than 1, but got dropout=0.2 and num_layers=1\n",
            "  warnings.warn(\n",
            "Epoch 1/5: 100%|██████████| 667/667 [00:03<00:00, 197.70it/s, loss=0.0606]\n"
          ]
        },
        {
          "output_type": "stream",
          "name": "stdout",
          "text": [
            "Epoch 1: Avg Loss = 0.3665\n"
          ]
        },
        {
          "output_type": "stream",
          "name": "stderr",
          "text": [
            "Epoch 2/5: 100%|██████████| 667/667 [00:04<00:00, 163.67it/s, loss=0.0647]\n"
          ]
        },
        {
          "output_type": "stream",
          "name": "stdout",
          "text": [
            "Epoch 2: Avg Loss = 0.1402\n"
          ]
        },
        {
          "output_type": "stream",
          "name": "stderr",
          "text": [
            "Epoch 3/5: 100%|██████████| 667/667 [00:02<00:00, 229.68it/s, loss=0.00048]\n"
          ]
        },
        {
          "output_type": "stream",
          "name": "stdout",
          "text": [
            "Epoch 3: Avg Loss = 0.0755\n"
          ]
        },
        {
          "output_type": "stream",
          "name": "stderr",
          "text": [
            "Epoch 4/5: 100%|██████████| 667/667 [00:02<00:00, 239.10it/s, loss=0.0001]\n"
          ]
        },
        {
          "output_type": "stream",
          "name": "stdout",
          "text": [
            "Epoch 4: Avg Loss = 0.0628\n"
          ]
        },
        {
          "output_type": "stream",
          "name": "stderr",
          "text": [
            "Epoch 5/5: 100%|██████████| 667/667 [00:02<00:00, 277.96it/s, loss=0.0007]"
          ]
        },
        {
          "output_type": "stream",
          "name": "stdout",
          "text": [
            "Epoch 5: Avg Loss = 0.0324\n"
          ]
        },
        {
          "output_type": "stream",
          "name": "stderr",
          "text": [
            "\n"
          ]
        }
      ]
    },
    {
      "cell_type": "code",
      "source": [
        "preds, labels = get_preds_and_labels(gru_model, test_dataloader)"
      ],
      "metadata": {
        "id": "1lfe9tQW3VuN"
      },
      "execution_count": null,
      "outputs": []
    },
    {
      "cell_type": "code",
      "source": [
        "evaluate_classification(y_true=labels, y_pred=preds, title='GRU Model for Dyck String Generation')"
      ],
      "metadata": {
        "colab": {
          "base_uri": "https://localhost:8080/",
          "height": 576
        },
        "id": "rtwxmisq3oiw",
        "outputId": "9aab48d7-0b79-4ce3-b500-aba030f7b784"
      },
      "execution_count": null,
      "outputs": [
        {
          "output_type": "display_data",
          "data": {
            "text/plain": [
              "<Figure size 600x500 with 2 Axes>"
            ],
            "image/png": "[encoded data removed]"
          },
          "metadata": {}
        },
        {
          "output_type": "stream",
          "name": "stdout",
          "text": [
            "Accuracy:  0.1840\n",
            "Precision: 0.1741\n",
            "Recall:    1.0000\n",
            "F1 Score:  0.2966\n"
          ]
        }
      ]
    },
    {
      "cell_type": "code",
      "source": [],
      "metadata": {
        "id": "YMT4hDEl3uVC"
      },
      "execution_count": null,
      "outputs": []
    }
  ]
}